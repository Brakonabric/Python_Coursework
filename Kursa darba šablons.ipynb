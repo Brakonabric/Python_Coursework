{
 "cells": [
  {
   "cell_type": "markdown",
   "metadata": {},
   "source": [
    "# <center> \"Brezenhema algoritma izmantošana 2D objekta pārvietošanai\" </center>\n",
    "\n",
    "<div style=\"text-align: right\"> \n",
    "        Linass Jokšass <br>\n",
    "        Datorsistēmas, 12. grupa <br>\n",
    "        221RDB522 <br>\n",
    "</div>"
   ]
  },
  {
   "cell_type": "markdown",
   "metadata": {},
   "source": [
    "### Kursa darba teorētiskā daļa  "
   ]
  },
  {
   "cell_type": "markdown",
   "metadata": {},
   "source": [
    "<hr><b>Uzdevuma nostādne:</b><br><br>\n",
    "\n",
    "{Lūdzu šajā sadaļā ievietojiet attiecīgo uzdevuma nostādni par savu kursa darba variantu} \n",
    "\n",
    "    \n",
    "<hr>"
   ]
  },
  {
   "cell_type": "markdown",
   "metadata": {},
   "source": [
    "<hr><b>Tēmas teorētiskais apraksts</b><br><br>\n",
    "\n",
    "{Lūdzu šajā sadaļā ievietojiet attiecīgā uzdevuma teorētisko aprakstu}\n",
    "\n",
    "    \n",
    "<hr>"
   ]
  },
  {
   "cell_type": "markdown",
   "metadata": {},
   "source": [
    "<hr><b>Izmantotās Python bibliotēkas</b><br><br>\n",
    "\n",
    "{Lūdzu šajā sadaļā aprakstīt darba izstrādes laikā izmantotās Python bibliotēkas un to izmantošanas pamatojumu}\n",
    "\n",
    "    \n",
    "<hr>"
   ]
  },
  {
   "attachments": {},
   "cell_type": "markdown",
   "metadata": {},
   "source": [
    "<hr><b>Izmantotie avoti</b><br><br>\n",
    "\n",
    "*Geeksforgeeks.org avoti:*<br>\n",
    "[Tkinter bibliotēkas lietošanas pamati.](https://www.geeksforgeeks.org/python-gui-tkinter/)<br>\n",
    "[Tkinter pogu brīva pozicionēšana.](https://www.geeksforgeeks.org/how-to-place-a-button-at-any-position-in-tkinter/)<br>\n",
    "[Tkinter pogas stils.](https://www.geeksforgeeks.org/python-add-style-to-tkinter-button/?ref=rp)<br>\n",
    "[Tkinter sekundārā loga izveide.](https://www.geeksforgeeks.org/python-tkinter-toplevel-widget/)<br>\n",
    "[Tkinter dinamiskā teksta izveide.](https://www.geeksforgeeks.org/how-to-change-the-tkinter-label-text/)<br>\n",
    "[Python append()](https://www.geeksforgeeks.org/append-extend-python/)<br><br>\n",
    "*W3schools.com avoti:*<br>\n",
    "[Python Try Except.](https://www.w3schools.com/python/python_try_except.asp)<br>\n",
    "[Python Functions.](https://www.w3schools.com/python/python_functions.asp)<br>\n",
    "[Python Python For Loops.](https://www.w3schools.com/python/python_for_loops.asp)<br><br>\n",
    "*Tutorialspoint.com avoti:*<br>\n",
    "[Tkinter peles kursora sekošana.](https://www.tutorialspoint.com/mouse-position-in-python-tkinter)<br>\n",
    "[Tkinter peles kursora veidi.](https://www.tutorialspoint.com/changing-the-mouse-cursor-in-tkinter)<br>\n",
    "[Tkinter sintakse un pogu parametri.](https://www.tutorialspoint.com/python/tk_button.htm)<br><br>\n",
    "*Python.org avoti:*<br>\n",
    "[Tkinter bibliotēkas dokumentācija.](https://docs.python.org/3/library/tkinter.html)<br>\n",
    "[Tkinter ziņu logs.](https://docs.python.org/3/library/tkinter.messagebox.html)<br><br>\n",
    "*Stackoverflow.com atbildes:*<br>\n",
    "[Tkinter esoša Canvas dzēšana.](https://stackoverflow.com/questions/23690993/how-do-we-delete-a-shape-thats-already-been-created-in-tkinter-canvas)<br>\n",
    "[Tkinter Canvas apmales izslēgšana](https://stackoverflow.com/questions/4310489/how-do-i-remove-the-light-grey-border-around-my-canvas-widget)<br><br>\n",
    "*Citi avoti:*<br>\n",
    "[Tkinter teksta ievades lodziņš.](https://datatofish.com/entry-box-tkinter/)<br>\n",
    "[Tkinter objektu izvietojums.](https://www.activestate.com/resources/quick-reads/how-to-position-widgets-in-tkinter/)<br>\n",
    "[Tkinter Event veidi.](https://python-course.eu/tkinter/events-and-binds-in-tkinter.php)<br>\n",
    "\n",
    "*text*\n",
    "<li><a href=\"https://www.w3.org/wiki/Styling_lists_and_links%20?iframe=true&width=100%&height=100%\">New<a,></li>\n",
    "<li><a href=\"https://www.w3.org/wiki/Styling_lists_and_links%20?iframe=true&width=100%&height=100%\">New<a,></li>\n",
    "<li><a href=\"https://www.w3.org/wiki/Styling_lists_and_links%20?iframe=true&width=100%&height=100%\">New<a,></li>\n",
    "<li><a href=\"https://www.w3.org/wiki/Styling_lists_and_links%20?iframe=true&width=100%&height=100%\">New<a,></li>\n",
    "\n",
    "\n",
    "\n",
    "\n",
    "\n",
    "\n",
    "\n",
    "<hr>"
   ]
  },
  {
   "cell_type": "markdown",
   "metadata": {},
   "source": [
    "### Kursa darba praktiskā daļa"
   ]
  },
  {
   "cell_type": "code",
   "execution_count": 1,
   "metadata": {},
   "outputs": [],
   "source": []
  },
  {
   "cell_type": "code",
   "execution_count": null,
   "metadata": {},
   "outputs": [],
   "source": []
  }
 ],
 "metadata": {
  "kernelspec": {
   "display_name": "Python 3",
   "language": "python",
   "name": "python3"
  },
  "language_info": {
   "codemirror_mode": {
    "name": "ipython",
    "version": 3
   },
   "file_extension": ".py",
   "mimetype": "text/x-python",
   "name": "python",
   "nbconvert_exporter": "python",
   "pygments_lexer": "ipython3",
   "version": "3.10.9 (tags/v3.10.9:1dd9be6, Dec  6 2022, 20:01:21) [MSC v.1934 64 bit (AMD64)]"
  },
  "vscode": {
   "interpreter": {
    "hash": "15978850716fb9d980d732be0770dfd10e2b117f45422e58884472f00873c832"
   }
  }
 },
 "nbformat": 4,
 "nbformat_minor": 4
}
