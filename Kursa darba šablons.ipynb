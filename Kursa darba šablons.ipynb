{
 "cells": [
  {
   "cell_type": "markdown",
   "metadata": {},
   "source": [
    "# <center> \"Brezenhema algoritma izmantošana 2D objekta pārvietošanai\" </center>\n",
    "\n",
    "<div style=\"text-align: right\"> \n",
    "        Linass Jokšass <br>\n",
    "        Datorsistēmas, 12. grupa <br>\n",
    "        221RDB522 <br>\n",
    "</div>"
   ]
  },
  {
   "cell_type": "markdown",
   "metadata": {},
   "source": [
    "### Kursa darba teorētiskā daļa  "
   ]
  },
  {
   "cell_type": "markdown",
   "metadata": {},
   "source": [
    "<hr><b>Uzdevuma nostādne:</b><br><br>\n",
    "\n",
    "{Lūdzu šajā sadaļā ievietojiet attiecīgo uzdevuma nostādni par savu kursa darba variantu} \n",
    "\n",
    "    \n",
    "<hr>"
   ]
  },
  {
   "cell_type": "markdown",
   "metadata": {},
   "source": [
    "<hr><b>Tēmas teorētiskais apraksts</b><br><br>\n",
    "\n",
    "{Lūdzu šajā sadaļā ievietojiet attiecīgā uzdevuma teorētisko aprakstu}\n",
    "\n",
    "    \n",
    "<hr>"
   ]
  },
  {
   "cell_type": "markdown",
   "metadata": {},
   "source": [
    "<hr><b>Izmantotās Python bibliotēkas</b><br><br>\n",
    "\n",
    "{Lūdzu šajā sadaļā aprakstīt darba izstrādes laikā izmantotās Python bibliotēkas un to izmantošanas pamatojumu}\n",
    "\n",
    "    \n",
    "<hr>"
   ]
  },
  {
   "attachments": {},
   "cell_type": "markdown",
   "metadata": {},
   "source": [
    "<hr><b>Izmantotie avoti</b><br><br>\n",
    "\n",
    "<body>\n",
    "<i>Geeksforgeeks.org avoti:</i>\n",
    "<li><a href = \"https://www.geeksforgeeks.org/python-gui-tkinter/\">Tkinter bibliotēkas lietošanas pamati.</a></li>\n",
    "<li><a href = \"https://www.geeksforgeeks.org/how-to-place-a-button-at-any-position-in-tkinter/\">Tkinter pogu brīva pozicionēšana.</a></li>\n",
    "<li><a href = \"https://www.geeksforgeeks.org/python-add-style-to-tkinter-button/?ref=rp\">Tkinter pogas stils.</a></li>\n",
    "<li><a href = \"https://www.geeksforgeeks.org/python-tkinter-toplevel-widget/\">Tkinter sekundārā loga izveide.</a></li>\n",
    "<li><a href = \"https://www.geeksforgeeks.org/how-to-change-the-tkinter-label-text/\">Tkinter dinamiskā teksta izveide.</a></li>\n",
    "<li><a href = \"https://www.geeksforgeeks.org/append-extend-python/\">Python append()</a></li>\n",
    "</body><br>\n",
    "\n",
    "<body>\n",
    "<i>W3schools.com avoti:</i>\n",
    "<li><a href = \"https://www.w3schools.com/python/python_try_except.asp\">Python Try Except.</a></li>\n",
    "<li><a href = \"https://www.w3schools.com/python/python_functions.asp\">Python Functions.</a></li>\n",
    "<li><a href = \"https://www.w3schools.com/python/python_for_loops.asp\">Python Python For Loops.</a></li>\n",
    "</body><br>\n",
    "\n",
    "<body>\n",
    "<i>Tutorialspoint.com avoti:</i>\n",
    "<li><a href = \"https://www.tutorialspoint.com/mouse-position-in-python-tkinter\">Tkinter peles kursora sekošana.</a></li>\n",
    "<li><a href = \"https://www.tutorialspoint.com/changing-the-mouse-cursor-in-tkinter\">Tkinter peles kursora veidi.</a></li>\n",
    "<li><a href = \"https://www.tutorialspoint.com/python/tk_button.htm\">Tkinter sintakse un pogu parametri.</a></li>\n",
    "</body><br>\n",
    "\n",
    "<body>\n",
    "<i>Python.org avoti:</i>\n",
    "<li><a href = \"https://docs.python.org/3/library/tkinter.html\">Tkinter bibliotēkas dokumentācija.</a></li>\n",
    "<li><a href = \"https://docs.python.org/3/library/tkinter.messagebox.html\">Tkinter ziņu logs.</a></li>\n",
    "</body><br>\n",
    "\n",
    "<body>\n",
    "<i>Stackoverflow.com atbildes:</i>\n",
    "<li><a href = \"https://stackoverflow.com/questions/23690993/how-do-we-delete-a-shape-thats-already-been-created-in-tkinter-canvas\">Tkinter esoša Canvas dzēšana.</a></li>\n",
    "<li><a href = \"https://stackoverflow.com/questions/4310489/how-do-i-remove-the-light-grey-border-around-my-canvas-widget\">Tkinter Canvas apmales izslēgšana.</a></li>\n",
    "</body><br>\n",
    "\n",
    "<body>\n",
    "<i>Citi avoti:</i>\n",
    "<li><a href = \"https://datatofish.com/entry-box-tkinter/\">Tkinter teksta ievades lodziņš.</a></li>\n",
    "<li><a href = \"https://www.activestate.com/resources/quick-reads/how-to-position-widgets-in-tkinter/\">Tkinter objektu izvietojums.<a></li>\n",
    "<li><a href = \"ttps://python-course.eu/tkinter/events-and-binds-in-tkinter.php\">Tkinter Event veidi.</a></li>\n",
    "<li><a href = \"https://www.w3.org/wiki/Styling_lists_and_links%20?iframe=true&width=100%25&height=100%25\">HTML sakarsta veidošana un hipersaites</a></li>\n",
    "</body><br>\n",
    "<hr>"
   ]
  },
  {
   "cell_type": "markdown",
   "metadata": {},
   "source": [
    "### Kursa darba praktiskā daļa"
   ]
  },
  {
   "cell_type": "code",
   "execution_count": 1,
   "metadata": {},
   "outputs": [],
   "source": []
  }
 ],
 "metadata": {
  "kernelspec": {
   "display_name": "Python 3",
   "language": "python",
   "name": "python3"
  },
  "language_info": {
   "codemirror_mode": {
    "name": "ipython",
    "version": 3
   },
   "file_extension": ".py",
   "mimetype": "text/x-python",
   "name": "python",
   "nbconvert_exporter": "python",
   "pygments_lexer": "ipython3",
   "version": "3.10.9 (tags/v3.10.9:1dd9be6, Dec  6 2022, 20:01:21) [MSC v.1934 64 bit (AMD64)]"
  },
  "vscode": {
   "interpreter": {
    "hash": "8ed8dd3507d2fb32cb7c6cb09cbbf22a157c9f90198bb8429fa159b8333406b0"
   }
  }
 },
 "nbformat": 4,
 "nbformat_minor": 4
}
