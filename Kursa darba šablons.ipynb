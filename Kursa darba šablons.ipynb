{
 "cells": [
  {
   "cell_type": "markdown",
   "metadata": {},
   "source": [
    "# <center> \"Brezenhema algoritma izmantošana 2D objekta pārvietošanai\" </center>\n",
    "\n",
    "<div style=\"text-align: right\"> \n",
    "        Linass Jokšass <br>\n",
    "        Datorsistēmas, 12. grupa <br>\n",
    "        221RDB522 <br>\n",
    "</div>"
   ]
  },
  {
   "cell_type": "markdown",
   "metadata": {},
   "source": [
    "### Kursa darba teorētiskā daļa  "
   ]
  },
  {
   "cell_type": "markdown",
   "metadata": {},
   "source": [
    "<hr><b>Uzdevuma nostādne:</b><br><br>\n",
    "\n",
    "{Lūdzu šajā sadaļā ievietojiet attiecīgo uzdevuma nostādni par savu kursa darba variantu} \n",
    "\n",
    "    \n",
    "<hr>"
   ]
  },
  {
   "cell_type": "markdown",
   "metadata": {},
   "source": [
    "<hr><b>Tēmas teorētiskais apraksts</b><br><br>\n",
    "\n",
    "{Lūdzu šajā sadaļā ievietojiet attiecīgā uzdevuma teorētisko aprakstu}\n",
    "\n",
    "    \n",
    "<hr>"
   ]
  },
  {
   "cell_type": "markdown",
   "metadata": {},
   "source": [
    "<hr><b>Izmantotās Python bibliotēkas</b><br><br>\n",
    "\n",
    "{Lūdzu šajā sadaļā aprakstīt darba izstrādes laikā izmantotās Python bibliotēkas un to izmantošanas pamatojumu}\n",
    "\n",
    "    \n",
    "<hr>"
   ]
  },
  {
   "cell_type": "markdown",
   "metadata": {},
   "source": [
    "<hr><b>Izmantotie avoti</b><br><br>\n",
    "\n",
    "{Lūdzu šajā sadaļā aprakstīt citus izmantotus avotus: GitHub repozitorijus, grāmatu nodaļas, blogus, publikācijas utt.}\n",
    "\n",
    "    \n",
    "<hr>"
   ]
  },
  {
   "cell_type": "markdown",
   "metadata": {},
   "source": [
    "### Kursa darba praktiskā daļa"
   ]
  },
  {
   "cell_type": "code",
   "execution_count": 1,
   "metadata": {},
   "outputs": [],
   "source": []
  },
  {
   "cell_type": "code",
   "execution_count": null,
   "metadata": {},
   "outputs": [],
   "source": []
  }
 ],
 "metadata": {
  "kernelspec": {
   "display_name": "Python 3 (ipykernel)",
   "language": "python",
   "name": "python3"
  },
  "language_info": {
   "codemirror_mode": {
    "name": "ipython",
    "version": 3
   },
   "file_extension": ".py",
   "mimetype": "text/x-python",
   "name": "python",
   "nbconvert_exporter": "python",
   "pygments_lexer": "ipython3",
   "version": "3.9.13"
  }
 },
 "nbformat": 4,
 "nbformat_minor": 4
}
