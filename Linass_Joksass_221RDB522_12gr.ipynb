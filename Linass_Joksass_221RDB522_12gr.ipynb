{
 "cells": [
  {
   "cell_type": "markdown",
   "id": "177a3426",
   "metadata": {},
   "source": [
    "## <center> RĪGAS TEHNISKĀ UNIVERSITĀTE\n",
    "\n",
    "### <center>DATORZINĀTNES UN INFORMĀCIJAS TEHNOLOĢIJAS FAKULTĀTE\n",
    "\n",
    "\n",
    "### <center>Datorgrafikas un attēlu apstrādes pamati\n",
    "<br> <hr>\n",
    "#### Praktiskā darba Nr. 1\n",
    "#### Linass Jokšass\n",
    "#### 221RDB522\n"
   ]
  },
  {
   "cell_type": "markdown",
   "id": "4bf39cd8",
   "metadata": {},
   "source": [
    "## DARBA UZDEVUMS\n",
    "Darba uzdevums:\n",
    "\n",
    "Balstoties uz praktiskās nodarbības laikā aplūkoto Brezenhema algoritma realizāciju, izveidot no vairākām taisnēm savus pēdējos 3 studenta apliecības numura skaitļus (piemēram, ja Jūsu studentu apliecības numurs ir 200RDB153, tad Jums ir jāizveido skaitļi 153)\n",
    "\n",
    "ORTUS vidē OBLIGĀTI nepieciešams iesniegt: Jupyter Notebook failu (\"*.ipynb\" formātā) ar individuālā uzdevuma izpildi\n",
    "Darba šablonā obligāti jāiekļauj:\n",
    "\n",
    "    Studenta dati (vārds, uzvārds, apliecības numurs, grupa)\n",
    "    Uzdevuma nostādne,\n",
    "    Individuālā uzdevuma izpildes kods\n",
    "\n",
    "Pārskata noformējuma šablons pieejams kursa praktisko nodarbību sadaļā, pie Ievadnodarbības"
   ]
  },
  {
   "cell_type": "code",
   "execution_count": 4,
   "id": "747350e3",
   "metadata": {},
   "outputs": [
    {
     "data": {
      "image/png": "[encoded data removed]",
      "text/plain": [
       "<Figure size 640x480 with 1 Axes>"
      ]
     },
     "metadata": {},
     "output_type": "display_data"
    }
   ],
   "source": [
    "# Programmējamais kods\n",
    "\n",
    "import numpy as np\n",
    "import matplotlib.pyplot as plt\n",
    "img=np.ones((600,1000,3))\n",
    "\n",
    "def DrawLine(x1,y1,x2,y2):\n",
    "    \n",
    "    dx = abs(x2-x1)\n",
    "    dy = abs(y2-y1)\n",
    "\n",
    "    if x1<x2:\n",
    "        xs=1 \n",
    "    else:\n",
    "        xs=-1\n",
    "    if y1<y2:\n",
    "        ys=1\n",
    "    else:\n",
    "        ys=-1\n",
    "    x=x1\n",
    "    y=y1\n",
    "    p=2*dy-dx   \n",
    "    \n",
    "    if dx>dy:\n",
    "        while x<x2:\n",
    "            x=x+xs\n",
    "            if p > 0:\n",
    "                y=y+ys\n",
    "                p=p+2*dy-2*dx\n",
    "            else:\n",
    "                p=p+2*dy\n",
    "            img[y,x]= 0\n",
    "    else:\n",
    "        while y!=y2:\n",
    "           \n",
    "            y=y+ys\n",
    "            if p > 0:\n",
    "                x=x+xs\n",
    "                p=p+2*dx-2*dy\n",
    "            else:\n",
    "                p=p+2*dx\n",
    "            img[y,x]= 0\n",
    "    return\n",
    "\n",
    "step=300\n",
    "#DrawLine(X1,Y1,X2,Y2)\n",
    "#5\n",
    "DrawLine(100,100,100,300)\n",
    "DrawLine(100,100,300,100)\n",
    "DrawLine(100,300,300,300)\n",
    "DrawLine(300,300,300,500)\n",
    "DrawLine(100,500,300,500)\n",
    "#2\n",
    "DrawLine(400,300,400,500)\n",
    "DrawLine(400,500,600,500)\n",
    "DrawLine(400,300,600,300)\n",
    "DrawLine(400,100,600,100)\n",
    "DrawLine(600,100,600,300)\n",
    "#2\n",
    "DrawLine(400+step,300,400+step,500)\n",
    "DrawLine(400+step,500,600+step,500)\n",
    "DrawLine(400+step,300,600+step,300)\n",
    "DrawLine(400+step,100,600+step,100)\n",
    "DrawLine(600+step,100,600+step,300)\n",
    "\n",
    "plt.imshow(img)\n",
    "plt.show()"
   ]
  },
  {
   "cell_type": "code",
   "execution_count": null,
   "id": "05c7c8b3",
   "metadata": {},
   "outputs": [],
   "source": []
  },
  {
   "cell_type": "code",
   "execution_count": null,
   "id": "ae5d3fc4",
   "metadata": {},
   "outputs": [],
   "source": []
  },
  {
   "cell_type": "code",
   "execution_count": null,
   "id": "9c91410d",
   "metadata": {},
   "outputs": [],
   "source": []
  },
  {
   "cell_type": "code",
   "execution_count": null,
   "id": "f482c5fa",
   "metadata": {},
   "outputs": [],
   "source": []
  }
 ],
 "metadata": {
  "celltoolbar": "Raw Cell Format",
  "kernelspec": {
   "display_name": "Python 3 (ipykernel)",
   "language": "python",
   "name": "python3"
  },
  "language_info": {
   "codemirror_mode": {
    "name": "ipython",
    "version": 3
   },
   "file_extension": ".py",
   "mimetype": "text/x-python",
   "name": "python",
   "nbconvert_exporter": "python",
   "pygments_lexer": "ipython3",
   "version": "3.9.13"
  }
 },
 "nbformat": 4,
 "nbformat_minor": 5
}
